{
 "cells": [
  {
   "cell_type": "code",
   "execution_count": null,
   "metadata": {},
   "outputs": [],
   "source": [
    "\"\"\" Спасибо авторам статьи. Её оригинал по адресу : https://metanit.com/python/tutorial/4.6.php \"\"\""
   ]
  },
  {
   "cell_type": "code",
   "execution_count": null,
   "metadata": {},
   "outputs": [],
   "source": [
    "\"\"\" Для работы с бинарными файлами в Python может применяться еще один модуль - shelve. Он сохраняет объекты в файл с определенным ключом. Затем по этому ключу может извлечь ранее сохраненный объект из файла. Процесс работы с данными через модуль shelve напоминает работу со словарями, которые также используют ключи для сохранения и извлечения объектов.\n",
    "\n",
    "Для открытия файла модуль shelve использует функцию open(): \"\"\"\n",
    "\n",
    "open(путь_к_файлу[, flag=\"c\"[, protocol=None[, writeback=False]]])"
   ]
  },
  {
   "cell_type": "code",
   "execution_count": null,
   "metadata": {},
   "outputs": [],
   "source": [
    "\"\"\" Где параметр flag может принимать значения:\n",
    "\n",
    "    c: файл открывается для чтения и записи (значение по умолчанию). Если файл не существует, то он создается.\n",
    "\n",
    "    r: файл открывается только для чтения.\n",
    "\n",
    "    w: файл открывается для записи.\n",
    "\n",
    "    n: файл открывается для записи Если файл не существует, то он создается. Если он существует, то он перезаписывается\n",
    " \"\"\""
   ]
  },
  {
   "cell_type": "code",
   "execution_count": null,
   "metadata": {},
   "outputs": [],
   "source": [
    "\"\"\" Для закрытия подключения к файлу вызывается метод close():\"\"\"\n",
    "import shelve\n",
    "d = shelve.open(filename)\n",
    "d.close()"
   ]
  },
  {
   "cell_type": "code",
   "execution_count": null,
   "metadata": {},
   "outputs": [],
   "source": [
    "\"\"\" Либо можно открывать файл с помощью оператора with. Сохраним и считаем в файл несколько объектов: \"\"\"\n",
    "import shelve\n",
    " \n",
    "FILENAME = \"states2\"\n",
    "with shelve.open(FILENAME) as states:\n",
    "    states[\"London\"] = \"Great Britain\"\n",
    "    states[\"Paris\"] = \"France\"\n",
    "    states[\"Berlin\"] = \"Germany\"\n",
    "    states[\"Madrid\"] = \"Spain\"\n",
    " \n",
    "with shelve.open(FILENAME) as states:\n",
    "    print(states[\"London\"])\n",
    "    print(states[\"Madrid\"])"
   ]
  },
  {
   "cell_type": "code",
   "execution_count": null,
   "metadata": {},
   "outputs": [],
   "source": [
    "\"\"\" Запись данных предполагает установку значения для определенного ключа: \"\"\"\n",
    "states[\"London\"] = \"Great Britain\""
   ]
  },
  {
   "cell_type": "code",
   "execution_count": null,
   "metadata": {},
   "outputs": [],
   "source": [
    "\"\"\" А чтение из файла эквивалентно получению значения по ключу: \"\"\"\n",
    "print(states[\"London\"])"
   ]
  },
  {
   "cell_type": "code",
   "execution_count": null,
   "metadata": {},
   "outputs": [],
   "source": [
    "\"\"\" Чтение данных\n",
    "\n",
    "При чтении данных, если запрашиваемый ключ отсутствует, то генерируется исключение. \n",
    "В этом случае перед получением мы можем проверять на наличие ключа с помощью оператора in: \"\"\"\n",
    "with shelve.open(FILENAME) as states:\n",
    "    key = \"Brussels\"\n",
    "    if key in states:\n",
    "        print(states[key])"
   ]
  },
  {
   "cell_type": "code",
   "execution_count": null,
   "metadata": {},
   "outputs": [],
   "source": [
    "\"\"\" Также мы можем использовать метод get(). Первый параметр метода - ключ, по которому следует получить значение, а второй - значение по умолчанию, которое возвращается, если ключ не найден. \"\"\"\n",
    "with shelve.open(FILENAME) as states:\n",
    "    state = states.get(\"Brussels\", \"Undefined\")\n",
    "    print(state)"
   ]
  },
  {
   "cell_type": "code",
   "execution_count": null,
   "metadata": {},
   "outputs": [],
   "source": [
    "\"\"\" Используя цикл for, можно перебрать все значения из файла: \"\"\"\n",
    "with shelve.open(FILENAME) as states:\n",
    "    for key in states:\n",
    "        print(key,\" - \", states[key])"
   ]
  },
  {
   "cell_type": "code",
   "execution_count": null,
   "metadata": {},
   "outputs": [],
   "source": [
    "\n",
    "\"\"\" Метод keys() возвращает все ключи из файла, а метод values() - все значения: \"\"\"\n",
    "with shelve.open(FILENAME) as states:\n",
    " \n",
    "    for city in states.keys():\n",
    "        print(city, end=\" \")        # London Paris Berlin Madrid \n",
    "    print()\n",
    "    for country in states.values():\n",
    "        print(country, end=\" \")     # Great Britain France Germany Spain "
   ]
  },
  {
   "cell_type": "code",
   "execution_count": null,
   "metadata": {},
   "outputs": [],
   "source": [
    "\"\"\" Еще один метод items() возвращает набор кортежей. Каждый кортеж содержит ключ и значение. \"\"\"\n",
    "with shelve.open(FILENAME) as states:\n",
    " \n",
    "    for state in states.items():\n",
    "        print(state)"
   ]
  },
  {
   "cell_type": "code",
   "execution_count": null,
   "metadata": {},
   "outputs": [],
   "source": [
    "\"\"\" Обновление данных\n",
    "\n",
    "Для изменения данных достаточно присвоить по ключу новое значение, а для добавления данных - определить новый ключ: \"\"\"\n",
    "import shelve\n",
    " \n",
    "FILENAME = \"states2\"\n",
    "with shelve.open(FILENAME) as states:\n",
    "    states[\"London\"] = \"Great Britain\"\n",
    "    states[\"Paris\"] = \"France\"\n",
    "    states[\"Berlin\"] = \"Germany\"\n",
    "    states[\"Madrid\"] = \"Spain\"\n",
    " \n",
    "with shelve.open(FILENAME) as states:\n",
    " \n",
    "    states[\"London\"] = \"United Kingdom\"\n",
    "    states[\"Brussels\"] = \"Belgium\"\n",
    "    for key in states:\n",
    "        print(key, \" - \", states[key])"
   ]
  },
  {
   "cell_type": "code",
   "execution_count": null,
   "metadata": {},
   "outputs": [],
   "source": [
    "\"\"\" Удаление данных\n",
    "\n",
    "Для удаления с одновременным получением можно использовать функцию pop(), в которую передается ключ элемента и значение по умолчанию, если ключ не найден: \"\"\"\n",
    "with shelve.open(FILENAME) as states:\n",
    " \n",
    "    state = states.pop(\"London\", \"NotFound\")\n",
    "    print(state)"
   ]
  },
  {
   "cell_type": "code",
   "execution_count": null,
   "metadata": {},
   "outputs": [],
   "source": [
    "\"\"\" Также для удаления может применяться оператор del: \"\"\"\n",
    "with shelve.open(FILENAME) as states:\n",
    " \n",
    "    del states[\"Madrid\"]    # удаляем объект с ключом Madrid"
   ]
  },
  {
   "cell_type": "code",
   "execution_count": null,
   "metadata": {},
   "outputs": [],
   "source": [
    "\"\"\" Для удаления всех элементов можно использовать метод clear():\"\"\"\n",
    "with shelve.open(FILENAME) as states:\n",
    " \n",
    "    states.clear()"
   ]
  }
 ],
 "metadata": {
  "language_info": {
   "name": "python"
  }
 },
 "nbformat": 4,
 "nbformat_minor": 2
}
