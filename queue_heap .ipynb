{
 "cells": [
  {
   "cell_type": "code",
   "execution_count": 1,
   "metadata": {},
   "outputs": [
    {
     "name": "stdout",
     "output_type": "stream",
     "text": [
      "Задача 1 с приоритетом 6\n",
      "Задача 101 с приоритетом 5\n",
      "Задача 10 с приоритетом 10\n",
      "Задача 10 с приоритетом 5\n"
     ]
    }
   ],
   "source": [
    "\n",
    "\n",
    "from heapq import heappop, heappush, heapify\n",
    "\n",
    "heap = []\n",
    "heapify(heap)\n",
    "\n",
    "priority = {}\n",
    "\n",
    "while True:\n",
    "    promt = input()\n",
    "    if 'task' in promt:\n",
    "        task = promt.split(',')[0]\n",
    "        task_is = int(task.split()[1])\n",
    "        pri = int(promt.split(',')[1])\n",
    "\n",
    "        priority[task] = task_is\n",
    "\n",
    "        heappush(heap, (-pri,-task_is))\n",
    "        \n",
    "\n",
    "    elif 'take' in promt:\n",
    "        pop_is = heappop(heap)\n",
    "        num_is = -pop_is[1]\n",
    "        pri_is = -pop_is[0]\n",
    "\n",
    "        print(f'Задача {num_is} с приоритетом {pri_is}')\n",
    "        \n",
    "    elif 'end' in promt:\n",
    "        break\n",
    "\n"
   ]
  }
 ],
 "metadata": {
  "kernelspec": {
   "display_name": "Python 3",
   "language": "python",
   "name": "python3"
  },
  "language_info": {
   "codemirror_mode": {
    "name": "ipython",
    "version": 3
   },
   "file_extension": ".py",
   "mimetype": "text/x-python",
   "name": "python",
   "nbconvert_exporter": "python",
   "pygments_lexer": "ipython3",
   "version": "3.10.12"
  }
 },
 "nbformat": 4,
 "nbformat_minor": 2
}
