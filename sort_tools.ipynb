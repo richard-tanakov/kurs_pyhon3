{
 "cells": [
  {
   "cell_type": "code",
   "execution_count": 6,
   "metadata": {},
   "outputs": [
    {
     "name": "stdout",
     "output_type": "stream",
     "text": [
      "Вашингтон США\n",
      "Нью-Йорк США\n",
      "Нью-Йорк США\n",
      "США Вашингтон\n",
      "США Нью-Йорк\n"
     ]
    }
   ],
   "source": [
    "country=dict()\n",
    "num=int(input())\n",
    "count=0\n",
    "while count != num:\n",
    "    key,value= (str(input())).split()\n",
    "    country[key]=value\n",
    "    count+=1\n",
    "country = sorted(country.items(), key=lambda item: item[1])\n",
    "\n",
    "\n",
    "for i in country: \n",
    "    key,value = (i)\n",
    "    print(f'{value} {key}')"
   ]
  }
 ],
 "metadata": {
  "kernelspec": {
   "display_name": "Python 3",
   "language": "python",
   "name": "python3"
  },
  "language_info": {
   "codemirror_mode": {
    "name": "ipython",
    "version": 3
   },
   "file_extension": ".py",
   "mimetype": "text/x-python",
   "name": "python",
   "nbconvert_exporter": "python",
   "pygments_lexer": "ipython3",
   "version": "3.10.12"
  }
 },
 "nbformat": 4,
 "nbformat_minor": 2
}
