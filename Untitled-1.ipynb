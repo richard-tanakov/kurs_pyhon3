{
 "cells": [
  {
   "cell_type": "code",
   "execution_count": null,
   "metadata": {},
   "outputs": [
    {
     "ename": "",
     "evalue": "",
     "output_type": "error",
     "traceback": [
      "\u001b[1;31mFailed to start the Kernel. \n",
      "\u001b[1;31m/home/rich/.local/lib/python3.9/site-packages/traitlets/traitlets.py:2548: FutureWarning: Supporting extra quotes around strings is deprecated in traitlets 5.0. You can use 'hmac-sha256' instead of '\"hmac-sha256\"' if you require traitlets >=5.\n",
      "\u001b[1;31m  warn(\n",
      "\u001b[1;31m/home/rich/.local/lib/python3.9/site-packages/traitlets/traitlets.py:2499: FutureWarning: Supporting extra quotes around Bytes is deprecated in traitlets 5.0. Use '66cfc741-22f6-41cb-89bf-102e5e0095a1' instead of 'b\"66cfc741-22f6-41cb-89bf-102e5e0095a1\"'.\n",
      "\u001b[1;31m  warn(\n",
      "\u001b[1;31mAddress family not supported by protocol (src/ip_resolver.cpp:542). \n",
      "\u001b[1;31mView Jupyter <a href='command:jupyter.viewOutput'>log</a> for further details."
     ]
    }
   ],
   "source": [
    "\"\"\"Семья решила заняться оптимизацией своих денежных расходов и придумала следующую схему:\n",
    "\n",
    "10 % доходов идут на отпуск\n",
    "30 % доходов на пропитание и еду\n",
    "5 % на коммунальные платежи\n",
    "15 % на выходной досуг\n",
    "остальные 40% идут в накоплениястве результата работы выведите количество рублей и копеек для каждой из категорий в таком формате:\n",
    "\"\"\""
   ]
  },
  {
   "cell_type": "code",
   "execution_count": null,
   "metadata": {},
   "outputs": [
    {
     "ename": "",
     "evalue": "",
     "output_type": "error",
     "traceback": [
      "\u001b[1;31mFailed to start the Kernel. \n",
      "\u001b[1;31m/home/rich/.local/lib/python3.9/site-packages/traitlets/traitlets.py:2548: FutureWarning: Supporting extra quotes around strings is deprecated in traitlets 5.0. You can use 'hmac-sha256' instead of '\"hmac-sha256\"' if you require traitlets >=5.\n",
      "\u001b[1;31m  warn(\n",
      "\u001b[1;31m/home/rich/.local/lib/python3.9/site-packages/traitlets/traitlets.py:2499: FutureWarning: Supporting extra quotes around Bytes is deprecated in traitlets 5.0. Use '66cfc741-22f6-41cb-89bf-102e5e0095a1' instead of 'b\"66cfc741-22f6-41cb-89bf-102e5e0095a1\"'.\n",
      "\u001b[1;31m  warn(\n",
      "\u001b[1;31mAddress family not supported by protocol (src/ip_resolver.cpp:542). \n",
      "\u001b[1;31mView Jupyter <a href='command:jupyter.viewOutput'>log</a> for further details."
     ]
    }
   ],
   "source": [
    "income= (30000.50+20000.75)  #(input()+input()) # На ввод подаётся два дохода"
   ]
  },
  {
   "cell_type": "code",
   "execution_count": null,
   "metadata": {},
   "outputs": [
    {
     "ename": "",
     "evalue": "",
     "output_type": "error",
     "traceback": [
      "\u001b[1;31mFailed to start the Kernel. \n",
      "\u001b[1;31m/home/rich/.local/lib/python3.9/site-packages/traitlets/traitlets.py:2548: FutureWarning: Supporting extra quotes around strings is deprecated in traitlets 5.0. You can use 'hmac-sha256' instead of '\"hmac-sha256\"' if you require traitlets >=5.\n",
      "\u001b[1;31m  warn(\n",
      "\u001b[1;31m/home/rich/.local/lib/python3.9/site-packages/traitlets/traitlets.py:2499: FutureWarning: Supporting extra quotes around Bytes is deprecated in traitlets 5.0. Use '66cfc741-22f6-41cb-89bf-102e5e0095a1' instead of 'b\"66cfc741-22f6-41cb-89bf-102e5e0095a1\"'.\n",
      "\u001b[1;31m  warn(\n",
      "\u001b[1;31mAddress family not supported by protocol (src/ip_resolver.cpp:542). \n",
      "\u001b[1;31mView Jupyter <a href='command:jupyter.viewOutput'>log</a> for further details."
     ]
    }
   ],
   "source": [
    "vacation=(income*10/100)\n",
    "print(vacation)"
   ]
  }
 ],
 "metadata": {
  "kernelspec": {
   "display_name": "Python 3",
   "language": "python",
   "name": "python3"
  },
  "language_info": {
   "name": "python",
   "version": "3.9.2"
  },
  "orig_nbformat": 4
 },
 "nbformat": 4,
 "nbformat_minor": 2
}
