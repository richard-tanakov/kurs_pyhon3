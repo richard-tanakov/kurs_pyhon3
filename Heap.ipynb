{
 "cells": [
  {
   "cell_type": "code",
   "execution_count": 20,
   "metadata": {},
   "outputs": [
    {
     "name": "stdout",
     "output_type": "stream",
     "text": [
      "20\n"
     ]
    }
   ],
   "source": [
    "from heapq import heappush, heappop\n",
    "heap=[]\n",
    "nums=list(input().split())\n",
    "for numbers in nums:\n",
    "    heappush(heap,(int(numbers)*-1))\n",
    "\n",
    "\n",
    "while True:\n",
    "    text=list(input().split())\n",
    "    if len(text)==2:\n",
    "        num =(int(text[1]))*-1\n",
    "        heappush(heap,num)\n",
    "    else:\n",
    "        match str(text[0]):\n",
    "            case \"pop\":\n",
    "                print(heappop(heap)*-1)\n",
    "            case 'end':\n",
    "                break"
   ]
  },
  {
   "cell_type": "code",
   "execution_count": null,
   "metadata": {},
   "outputs": [],
   "source": []
  }
 ],
 "metadata": {
  "kernelspec": {
   "display_name": "Python 3",
   "language": "python",
   "name": "python3"
  },
  "language_info": {
   "codemirror_mode": {
    "name": "ipython",
    "version": 3
   },
   "file_extension": ".py",
   "mimetype": "text/x-python",
   "name": "python",
   "nbconvert_exporter": "python",
   "pygments_lexer": "ipython3",
   "version": "3.11.6"
  }
 },
 "nbformat": 4,
 "nbformat_minor": 2
}
