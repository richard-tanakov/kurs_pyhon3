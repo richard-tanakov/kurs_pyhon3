{
 "cells": [
  {
   "cell_type": "code",
   "execution_count": 1,
   "metadata": {},
   "outputs": [],
   "source": [
    "from heapq import heappush, heappop\n",
    "heap=[]\n",
    "nums = list(input().split())\n",
    "\n",
    "for negativeNumbers in nums:\n",
    "    negativeNumbers = (int(negativeNumbers))\n",
    "    heappush(heap,negativeNumbers*-1)\n",
    "while (command := input()) != 'end':\n",
    "    match command.split():\n",
    "        case 'insert', int(n): \n",
    "            heappush(heap,n*-1)\n",
    "        case 'pop':\n",
    "            out=(heappop(heap))\n",
    "            print((int(out))*-1)\n",
    "        "
   ]
  }
 ],
 "metadata": {
  "kernelspec": {
   "display_name": "Python 3",
   "language": "python",
   "name": "python3"
  },
  "language_info": {
   "codemirror_mode": {
    "name": "ipython",
    "version": 3
   },
   "file_extension": ".py",
   "mimetype": "text/x-python",
   "name": "python",
   "nbconvert_exporter": "python",
   "pygments_lexer": "ipython3",
   "version": "3.11.6"
  }
 },
 "nbformat": 4,
 "nbformat_minor": 2
}
