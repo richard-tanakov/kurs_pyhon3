{
 "cells": [
  {
   "cell_type": "code",
   "execution_count": 14,
   "metadata": {},
   "outputs": [],
   "source": [
    "import bisect\n",
    "listing = []\n",
    "\n",
    "while (user_data := input()) != 'change':\n",
    "    bisect.insort(listing, int(user_data))\n",
    "\n",
    "while (index_listing := input()) != 'close':\n",
    "    print(bisect.bisect_right(listing, int(index_listing))-1)"
   ]
  }
 ],
 "metadata": {
  "kernelspec": {
   "display_name": "Python 3",
   "language": "python",
   "name": "python3"
  },
  "language_info": {
   "codemirror_mode": {
    "name": "ipython",
    "version": 3
   },
   "file_extension": ".py",
   "mimetype": "text/x-python",
   "name": "python",
   "nbconvert_exporter": "python",
   "pygments_lexer": "ipython3",
   "version": "3.10.12"
  }
 },
 "nbformat": 4,
 "nbformat_minor": 2
}
