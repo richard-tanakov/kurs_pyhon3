{
 "cells": [
  {
   "cell_type": "code",
   "execution_count": 7,
   "metadata": {},
   "outputs": [
    {
     "name": "stdout",
     "output_type": "stream",
     "text": [
      "10\n"
     ]
    }
   ],
   "source": [
    "strings=list()\n",
    "while True:\n",
    "    text= str(input()).split(' ')\n",
    "    if len(text)==2:\n",
    "        num = text[1]\n",
    "        strings.append(num)\n",
    "    else:\n",
    "        command= ''.join(text)\n",
    "        match command: \n",
    "            case 'pop':\n",
    "                print (strings.pop())\n",
    "\n",
    "            case 'head':\n",
    "                print(strings[-1])\n",
    "\n",
    "            case 'close':\n",
    "               break   \n"
   ]
  }
 ],
 "metadata": {
  "kernelspec": {
   "display_name": "Python 3",
   "language": "python",
   "name": "python3"
  },
  "language_info": {
   "codemirror_mode": {
    "name": "ipython",
    "version": 3
   },
   "file_extension": ".py",
   "mimetype": "text/x-python",
   "name": "python",
   "nbconvert_exporter": "python",
   "pygments_lexer": "ipython3",
   "version": "3.11.6"
  }
 },
 "nbformat": 4,
 "nbformat_minor": 2
}
